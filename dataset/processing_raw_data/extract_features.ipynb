{
 "cells": [
  {
   "cell_type": "markdown",
   "metadata": {},
   "source": [
    "# read csv"
   ]
  },
  {
   "cell_type": "code",
   "execution_count": 21,
   "metadata": {},
   "outputs": [],
   "source": [
    "import pandas as pd\n",
    "import os "
   ]
  },
  {
   "cell_type": "code",
   "execution_count": 121,
   "metadata": {},
   "outputs": [],
   "source": [
    "dfs=[]\n",
    "for root, dirs, fnames in os.walk('scapy_output/'):\n",
    "        for fname in fnames:\n",
    "            if '.csv' in fname:\n",
    "                df=pd.read_csv(os.path.join(root,fname))\n",
    "                dfs.append(df)"
   ]
  },
  {
   "cell_type": "code",
   "execution_count": 124,
   "metadata": {},
   "outputs": [
    {
     "data": {
      "text/plain": [
       "30"
      ]
     },
     "execution_count": 124,
     "metadata": {},
     "output_type": "execute_result"
    }
   ],
   "source": [
    "len(dfs)\n",
    "\n"
   ]
  },
  {
   "cell_type": "code",
   "execution_count": 141,
   "metadata": {},
   "outputs": [],
   "source": [
    "def get_features(test):\n",
    "    rows=[]\n",
    "    for row in test.iterrows():\n",
    "        row=row[1]\n",
    "        hp=row['highest protocal']\n",
    "        l4p=row['L4 Protocal']\n",
    "        protocol=['1']\n",
    "        if pd.isna(l4p):\n",
    "            dport='0'\n",
    "            protocol='0-0-0-0-0-0-1'\n",
    "            dir='2'\n",
    "        else:\n",
    "            dport=row['dst port']\n",
    "\n",
    "            if 'TCP' in hp or 'TCP' in l4p:\n",
    "                protocol.append('1')\n",
    "            else:\n",
    "                protocol.append('0')\n",
    "            if 'UDP' in hp or 'UDP' in l4p:\n",
    "                protocol.append('1')\n",
    "            else:\n",
    "                protocol.append('0')\n",
    "            if 'TLS' in hp or 'TLS' in l4p or 'SSL' in hp or 'SSL' in l4p:\n",
    "                protocol.append('1')\n",
    "            else:\n",
    "                protocol.append('0')\n",
    "            if 'HTTP' in hp or 'HTTP' in l4p:\n",
    "                protocol.append('1')\n",
    "            else:\n",
    "                protocol.append('0')\n",
    "            if 'DNS' in hp or 'DNS' in l4p:\n",
    "                protocol.append('1')\n",
    "            else:\n",
    "                protocol.append('0')\n",
    "            protocol.append('0')\n",
    "            protocol='-'.join(protocol)\n",
    "\n",
    "            if row['src ip'][:7]=='192.168':\n",
    "                dir=1\n",
    "            else:\n",
    "                dir=0\n",
    "\n",
    "        packet_size=row['pkt len']\n",
    "        time=row['time']     \n",
    "        rows.append([dport,protocol,dir,packet_size,time])\n",
    "    return pd.DataFrame(rows,columns=['dport','protocol','dir','packet_size','time'])\n"
   ]
  },
  {
   "cell_type": "code",
   "execution_count": 145,
   "metadata": {
    "pycharm": {
     "name": "#%%\n"
    }
   },
   "outputs": [],
   "source": [
    "results=[]\n",
    "for df,name in zip(dfs,fnames):\n",
    "    result=get_features(df)\n",
    "    result.time=result.time.diff()\n",
    "    result=pd.concat([result.drop(columns='protocol'),result.protocol.str.split('-',expand=True)],axis=1)\n",
    "    results.append(result)\n",
    "    result.dropna().to_csv('final_output/{}'.format(name),index=False)\n"
   ]
  }
 ],
 "metadata": {
  "kernelspec": {
   "display_name": "Python 3",
   "language": "python",
   "name": "python3"
  },
  "language_info": {
   "codemirror_mode": {
    "name": "ipython",
    "version": 3
   },
   "file_extension": ".py",
   "mimetype": "text/x-python",
   "name": "python",
   "nbconvert_exporter": "python",
   "pygments_lexer": "ipython3",
   "version": "3.7.7"
  },
  "pycharm": {
   "stem_cell": {
    "cell_type": "raw",
    "source": [],
    "metadata": {
     "collapsed": false
    }
   }
  }
 },
 "nbformat": 4,
 "nbformat_minor": 4
}